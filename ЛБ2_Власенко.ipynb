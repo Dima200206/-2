{
  "cells": [
    {
      "cell_type": "markdown",
      "metadata": {
        "id": "view-in-github",
        "colab_type": "text"
      },
      "source": [
        "<a href=\"https://colab.research.google.com/github/Dima200206/-2/blob/main/%D0%9B%D0%912_%D0%92%D0%BB%D0%B0%D1%81%D0%B5%D0%BD%D0%BA%D0%BE.ipynb\" target=\"_parent\"><img src=\"https://colab.research.google.com/assets/colab-badge.svg\" alt=\"Open In Colab\"/></a>"
      ]
    },
    {
      "cell_type": "markdown",
      "source": [
        "##  ЛБ № 2 в-5 Власенко Дмитро ФІТ 3-6\n"
      ],
      "metadata": {
        "id": "Z9pggmNGrB9A"
      }
    },
    {
      "cell_type": "markdown",
      "source": [
        "#  Завдання 1. Зчитати датасет ВВП (млн. дол. США) за країнами з Вікіпедії за посиланням\n",
        "# https://en.wikipedia.org/wiki/List_of_countries_by_GDP_(nominal)\n",
        "# 5. Визначити тип даних\n",
        "#Завдання 2. Завантажити датасет Титанік з Kaggle (або використовуйте вже завантажений файл titanic.csv)Виконати попередній аналіз даних.\n",
        "#5. Ще раз перевірити наявність пропущених значень."
      ],
      "metadata": {
        "id": "YFX5bxFAvr_2"
      }
    },
    {
      "cell_type": "code",
      "source": [],
      "metadata": {
        "id": "iNnHnwg1wd1r"
      },
      "execution_count": null,
      "outputs": []
    },
    {
      "cell_type": "code",
      "execution_count": 15,
      "metadata": {
        "id": "LqZC3--1EObC",
        "colab": {
          "base_uri": "https://localhost:8080/"
        },
        "outputId": "379dd651-d921-4451-e414-ac7027857cc1"
      },
      "outputs": [
        {
          "output_type": "stream",
          "name": "stdout",
          "text": [
            "  Country/Territory IMF[1][13]            World Bank[14]             \\\n",
            "  Country/Territory   Forecast       Year       Estimate       Year   \n",
            "0             World  109529216       2024      105435540       2023   \n",
            "1     United States   28781083       2024       27360935       2023   \n",
            "2             China   18532633  [n 1]2024       17794782  [n 3]2023   \n",
            "3           Germany    4591100       2024        4456081       2023   \n",
            "4             Japan    4110452       2024        4212945       2023   \n",
            "\n",
            "  United Nations[15]             \n",
            "            Estimate       Year  \n",
            "0          100834796       2022  \n",
            "1           25744100       2022  \n",
            "2           17963170  [n 1]2022  \n",
            "3            4076923       2022  \n",
            "4            4232173       2022  \n",
            "<class 'pandas.core.frame.DataFrame'>\n",
            "RangeIndex: 210 entries, 0 to 209\n",
            "Data columns (total 7 columns):\n",
            " #   Column                                  Non-Null Count  Dtype \n",
            "---  ------                                  --------------  ----- \n",
            " 0   (Country/Territory, Country/Territory)  210 non-null    object\n",
            " 1   (IMF[1][13], Forecast)                  210 non-null    object\n",
            " 2   (IMF[1][13], Year)                      210 non-null    object\n",
            " 3   (World Bank[14], Estimate)              210 non-null    object\n",
            " 4   (World Bank[14], Year)                  210 non-null    object\n",
            " 5   (United Nations[15], Estimate)          210 non-null    object\n",
            " 6   (United Nations[15], Year)              210 non-null    object\n",
            "dtypes: object(7)\n",
            "memory usage: 11.6+ KB\n",
            "None\n"
          ]
        }
      ],
      "source": [
        "import pandas as pd\n",
        "\n",
        "# URL сторінки Вікіпедії з таблицею ВВП\n",
        "url = \"https://en.wikipedia.org/wiki/List_of_countries_by_GDP_(nominal)\"\n",
        "\n",
        "# Зчитування всіх таблиць зі сторінки\n",
        "tables = pd.read_html(url)\n",
        "\n",
        "# Припускаємо, що перша таблиця є потрібною (зазвичай так і є)\n",
        "gdp_table = tables[2]\n",
        "\n",
        "# Виведемо перші кілька рядків таблиці для перевірки\n",
        "print(gdp_table.head())\n",
        "\n",
        "# Збережемо таблицю у файл CSV для подальшого аналізу\n",
        "gdp_table.to_csv('gdp_nominal.csv', index=False)\n",
        "\n",
        "# Виведемо структуру таблиці та інформацію про типи даних\n",
        "print(gdp_table.info())\n",
        "\n",
        "\n"
      ]
    },
    {
      "cell_type": "code",
      "execution_count": 16,
      "metadata": {
        "id": "b9bQDAGtEOWZ",
        "colab": {
          "base_uri": "https://localhost:8080/"
        },
        "outputId": "a0f8b56c-9259-4074-e515-31a3e6c944fe"
      },
      "outputs": [
        {
          "output_type": "stream",
          "name": "stdout",
          "text": [
            "  Country/Territory IMF[1][13]            World Bank[14]             \\\n",
            "  Country/Territory   Forecast       Year       Estimate       Year   \n",
            "0             World  109529216       2024      105435540       2023   \n",
            "1     United States   28781083       2024       27360935       2023   \n",
            "2             China   18532633  [n 1]2024       17794782  [n 3]2023   \n",
            "3           Germany    4591100       2024        4456081       2023   \n",
            "4             Japan    4110452       2024        4212945       2023   \n",
            "\n",
            "  United Nations[15]             \n",
            "            Estimate       Year  \n",
            "0          100834796       2022  \n",
            "1           25744100       2022  \n",
            "2           17963170  [n 1]2022  \n",
            "3            4076923       2022  \n",
            "4            4232173       2022  \n",
            "Country/Territory   Country/Territory    object\n",
            "IMF[1][13]          Forecast             object\n",
            "                    Year                 object\n",
            "World Bank[14]      Estimate             object\n",
            "                    Year                 object\n",
            "United Nations[15]  Estimate             object\n",
            "                    Year                 object\n",
            "dtype: object\n"
          ]
        }
      ],
      "source": [
        "import pandas as pd\n",
        "\n",
        "# URL сторінки Вікіпедії з таблицею ВВП\n",
        "url = \"https://en.wikipedia.org/wiki/List_of_countries_by_GDP_(nominal)\"\n",
        "\n",
        "# Зчитування всіх таблиць зі сторінки\n",
        "tables = pd.read_html(url)\n",
        "\n",
        "# Припускаємо, що перша таблиця є потрібною (можливо, доведеться перевірити інші таблиці)\n",
        "gdp_table = tables[2]\n",
        "\n",
        "# Виведемо перші кілька рядків таблиці для перевірки\n",
        "print(gdp_table.head())\n",
        "\n",
        "# Визначення типів даних у таблиці\n",
        "print(gdp_table.dtypes)\n"
      ]
    },
    {
      "cell_type": "code",
      "execution_count": 25,
      "metadata": {
        "id": "Ma92xrVHEOLh",
        "colab": {
          "base_uri": "https://localhost:8080/"
        },
        "outputId": "ff0a1688-f3a5-4b35-97ac-ab11a7b7c668"
      },
      "outputs": [
        {
          "output_type": "stream",
          "name": "stdout",
          "text": [
            "   Country/Territory IMF[1][13] IMF[1][13].1 World Bank[14] World Bank[14].1  \\\n",
            "0  Country/Territory   Forecast         Year       Estimate             Year   \n",
            "1              World  109529216         2024      105435540             2023   \n",
            "2      United States   28781083         2024       27360935             2023   \n",
            "3              China   18532633    [n 1]2024       17794782        [n 3]2023   \n",
            "4            Germany    4591100         2024        4456081             2023   \n",
            "\n",
            "  United Nations[15] United Nations[15].1  \n",
            "0           Estimate                 Year  \n",
            "1          100834796                 2022  \n",
            "2           25744100                 2022  \n",
            "3           17963170            [n 1]2022  \n",
            "4            4076923                 2022  \n",
            "Country/Territory       0\n",
            "IMF[1][13]              0\n",
            "IMF[1][13].1            0\n",
            "World Bank[14]          0\n",
            "World Bank[14].1        0\n",
            "United Nations[15]      0\n",
            "United Nations[15].1    0\n",
            "dtype: int64\n",
            "Country/Territory       object\n",
            "IMF[1][13]              object\n",
            "IMF[1][13].1            object\n",
            "World Bank[14]          object\n",
            "World Bank[14].1        object\n",
            "United Nations[15]      object\n",
            "United Nations[15].1    object\n",
            "dtype: object\n"
          ]
        }
      ],
      "source": [
        "# Зчитування датасету \"gdp_nominal.csv\"\n",
        "titanic_df = pd.read_csv('gdp_nominal.csv')\n",
        "\n",
        "# Перегляд перших кількох рядків\n",
        "print(titanic_df.head())\n",
        "\n",
        "# Перевірка наявності пропущених значень\n",
        "missing_values = titanic_df.isnull().sum()\n",
        "print(missing_values)\n",
        "\n",
        "# Перевірка типів даних\n",
        "print(titanic_df.dtypes)\n"
      ]
    },
    {
      "cell_type": "code",
      "execution_count": null,
      "metadata": {
        "id": "0nuJJEBkEOI1"
      },
      "outputs": [],
      "source": []
    },
    {
      "cell_type": "code",
      "execution_count": null,
      "metadata": {
        "id": "d2vN4_1SEOFs"
      },
      "outputs": [],
      "source": []
    },
    {
      "cell_type": "code",
      "execution_count": null,
      "metadata": {
        "id": "EGQbsb-vEOCj"
      },
      "outputs": [],
      "source": []
    },
    {
      "cell_type": "code",
      "execution_count": null,
      "metadata": {
        "id": "1MyPpZVfEN_w"
      },
      "outputs": [],
      "source": []
    },
    {
      "cell_type": "code",
      "execution_count": null,
      "metadata": {
        "id": "zPchtm0DEN3J"
      },
      "outputs": [],
      "source": []
    }
  ],
  "metadata": {
    "colab": {
      "provenance": [],
      "authorship_tag": "ABX9TyOkcxvzcFpo3QyO1bCPcuzu",
      "include_colab_link": true
    },
    "kernelspec": {
      "display_name": "Python 3",
      "name": "python3"
    },
    "language_info": {
      "name": "python"
    }
  },
  "nbformat": 4,
  "nbformat_minor": 0
}