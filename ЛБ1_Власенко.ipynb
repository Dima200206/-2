{
  "nbformat": 4,
  "nbformat_minor": 0,
  "metadata": {
    "colab": {
      "provenance": [],
      "authorship_tag": "ABX9TyOSxJRm3zdikC9Z7GH/fDKy",
      "include_colab_link": true
    },
    "kernelspec": {
      "name": "python3",
      "display_name": "Python 3"
    },
    "language_info": {
      "name": "python"
    }
  },
  "cells": [
    {
      "cell_type": "markdown",
      "metadata": {
        "id": "view-in-github",
        "colab_type": "text"
      },
      "source": [
        "<a href=\"https://colab.research.google.com/github/Dima200206/-2/blob/main/%D0%9B%D0%911_%D0%92%D0%BB%D0%B0%D1%81%D0%B5%D0%BD%D0%BA%D0%BE.ipynb\" target=\"_parent\"><img src=\"https://colab.research.google.com/assets/colab-badge.svg\" alt=\"Open In Colab\"/></a>"
      ]
    },
    {
      "cell_type": "markdown",
      "source": [
        "## ЛБ 1"
      ],
      "metadata": {
        "id": "UJsLIWdnj3ag"
      }
    },
    {
      "cell_type": "code",
      "execution_count": 1,
      "metadata": {
        "id": "0IEVDL9CgU8z",
        "colab": {
          "base_uri": "https://localhost:8080/"
        },
        "outputId": "c2d6c350-5b65-49e9-be0b-1bb8848ea49f"
      },
      "outputs": [
        {
          "output_type": "stream",
          "name": "stdout",
          "text": [
            "[10  9  8  7  6  5  4  3  2  1]\n"
          ]
        }
      ],
      "source": [
        "# Завдання 1\n",
        "import numpy as np\n",
        "\n",
        "# Створення одновимірного масиву зі зворотним порядком перших 10 натуральних чисел\n",
        "vector = np.arange(1, 11)[::-1]\n",
        "print(vector)"
      ]
    },
    {
      "cell_type": "code",
      "source": [
        "# Завдання 2\n",
        "import numpy as np\n",
        "\n",
        "# Створення двовимірного масиву (матриці) розміром 3x3\n",
        "# Початкове значення - 27, далі зменшуємо на 3\n",
        "matrix = np.arange(27, 0, -3).reshape(3, 3)\n",
        "print(matrix)\n"
      ],
      "metadata": {
        "colab": {
          "base_uri": "https://localhost:8080/"
        },
        "id": "T-_OEsyDEOd7",
        "outputId": "64673e3f-1f71-4523-fac8-f5eacacac20c"
      },
      "execution_count": 2,
      "outputs": [
        {
          "output_type": "stream",
          "name": "stdout",
          "text": [
            "[[27 24 21]\n",
            " [18 15 12]\n",
            " [ 9  6  3]]\n"
          ]
        }
      ]
    },
    {
      "cell_type": "code",
      "source": [
        "# Завдання 3\n",
        "import numpy as np\n",
        "\n",
        "# Створення масиву розміром 3x3, заповненого випадковими дійсними числами від 0 до 1\n",
        "random_matrix = np.random.rand(3, 3)\n",
        "print(random_matrix)\n"
      ],
      "metadata": {
        "colab": {
          "base_uri": "https://localhost:8080/"
        },
        "id": "LqZC3--1EObC",
        "outputId": "7e07a638-34da-47ba-e13e-d03956f27312"
      },
      "execution_count": 4,
      "outputs": [
        {
          "output_type": "stream",
          "name": "stdout",
          "text": [
            "[[0.75213433 0.02761326 0.56259167]\n",
            " [0.51967966 0.64526081 0.89813996]\n",
            " [0.14607042 0.0368468  0.71272928]]\n"
          ]
        }
      ]
    },
    {
      "cell_type": "code",
      "source": [
        "# Завдання 4\n",
        "import numpy as np\n",
        "\n",
        "# Створення масиву розміром 3x3, заповненого випадковими дійсними числами від 0 до 1\n",
        "random_matrix = np.random.rand(3, 3)\n",
        "\n",
        "# Обчислення добутку всіх елементів масиву\n",
        "product_of_elements = np.prod(random_matrix)\n",
        "\n",
        "print(\"Масив:\")\n",
        "print(random_matrix)\n",
        "print(\"\\nДобуток всіх елементів масиву:\")\n",
        "print(product_of_elements)\n"
      ],
      "metadata": {
        "colab": {
          "base_uri": "https://localhost:8080/"
        },
        "id": "b9bQDAGtEOWZ",
        "outputId": "822f2113-fdbc-4031-d469-e5acda37eb6e"
      },
      "execution_count": 5,
      "outputs": [
        {
          "output_type": "stream",
          "name": "stdout",
          "text": [
            "Масив:\n",
            "[[0.33522961 0.24327281 0.98252746]\n",
            " [0.85049869 0.20887226 0.18126496]\n",
            " [0.9518677  0.40510909 0.2070228 ]]\n",
            "\n",
            "Добуток всіх елементів масиву:\n",
            "0.0002059755436727186\n"
          ]
        }
      ]
    },
    {
      "cell_type": "code",
      "source": [
        "# Завдання 5\n",
        "import numpy as np\n",
        "\n",
        "# Створення двох одновимірних масивів розміром 6, заповнених випадковими цілими числами від -20 до 20\n",
        "array1 = np.random.randint(-20, 21, 6)\n",
        "array2 = np.random.randint(-20, 21, 6)\n",
        "\n",
        "# Поелементні операції\n",
        "addition = array1 + array2\n",
        "subtraction = array1 - array2\n",
        "multiplication = array1 * array2\n",
        "\n",
        "print(\"Масив 1:\", array1)\n",
        "print(\"Масив 2:\", array2)\n",
        "print(\"\\nДодавання:\", addition)\n",
        "print(\"Віднімання:\", subtraction)\n",
        "print(\"Множення:\", multiplication)\n"
      ],
      "metadata": {
        "colab": {
          "base_uri": "https://localhost:8080/"
        },
        "id": "B4y-13SbEOTZ",
        "outputId": "3b6b9fef-ea86-41d2-fe78-33d2748776cd"
      },
      "execution_count": 6,
      "outputs": [
        {
          "output_type": "stream",
          "name": "stdout",
          "text": [
            "Масив 1: [11 13 -3  1  0 -3]\n",
            "Масив 2: [10  7 16 -7 17 -4]\n",
            "\n",
            "Додавання: [21 20 13 -6 17 -7]\n",
            "Віднімання: [  1   6 -19   8 -17   1]\n",
            "Множення: [110  91 -48  -7   0  12]\n"
          ]
        }
      ]
    },
    {
      "cell_type": "code",
      "source": [
        "# Завдання 6\n",
        "import numpy as np\n",
        "\n",
        "# Створення двох матриць розміром 2x2, заповнених довільними цілими числами від 6 до 10\n",
        "matrix1 = np.random.randint(6, 11, (2, 2))\n",
        "matrix2 = np.random.randint(6, 11, (2, 2))\n",
        "\n",
        "# Обчислення добутку матриць\n",
        "matrix_product = np.dot(matrix1, matrix2)\n",
        "\n",
        "print(\"Матриця 1:\")\n",
        "print(matrix1)\n",
        "print(\"\\nМатриця 2:\")\n",
        "print(matrix2)\n",
        "print(\"\\nДобуток матриць:\")\n",
        "print(matrix_product)"
      ],
      "metadata": {
        "colab": {
          "base_uri": "https://localhost:8080/"
        },
        "id": "Ma92xrVHEOLh",
        "outputId": "e2cda643-ce6c-4b71-a24f-653eb50c5358"
      },
      "execution_count": 7,
      "outputs": [
        {
          "output_type": "stream",
          "name": "stdout",
          "text": [
            "Матриця 1:\n",
            "[[8 9]\n",
            " [9 6]]\n",
            "\n",
            "Матриця 2:\n",
            "[[9 9]\n",
            " [6 9]]\n",
            "\n",
            "Добуток матриць:\n",
            "[[126 153]\n",
            " [117 135]]\n"
          ]
        }
      ]
    },
    {
      "cell_type": "code",
      "source": [
        "# Завдання 7\n",
        "import numpy as np\n",
        "\n",
        "# Створення матриці розміром 3x2, заповненої випадковими цілими числами від 1 до 8\n",
        "matrix1 = np.random.randint(1, 9, (3, 2))\n",
        "\n",
        "# Створення матриці розміром 2x2, заповненої випадковими цілими числами від 1 до 8\n",
        "matrix2 = np.random.randint(1, 9, (2, 2))\n",
        "\n",
        "# Перемноження матриць\n",
        "matrix_product = np.dot(matrix1, matrix2)\n",
        "\n",
        "print(\"Матриця 1 (3x2):\")\n",
        "print(matrix1)\n",
        "print(\"\\nМатриця 2 (2x2):\")\n",
        "print(matrix2)\n",
        "print(\"\\nДобуток матриць (3x2) * (2x2):\")\n",
        "print(matrix_product)\n"
      ],
      "metadata": {
        "colab": {
          "base_uri": "https://localhost:8080/"
        },
        "id": "0nuJJEBkEOI1",
        "outputId": "a52ec088-67da-4b43-ca8b-46dde0fecfbe"
      },
      "execution_count": 8,
      "outputs": [
        {
          "output_type": "stream",
          "name": "stdout",
          "text": [
            "Матриця 1 (3x2):\n",
            "[[2 7]\n",
            " [2 1]\n",
            " [8 4]]\n",
            "\n",
            "Матриця 2 (2x2):\n",
            "[[6 7]\n",
            " [4 2]]\n",
            "\n",
            "Добуток матриць (3x2) * (2x2):\n",
            "[[40 28]\n",
            " [16 16]\n",
            " [64 64]]\n"
          ]
        }
      ]
    },
    {
      "cell_type": "code",
      "source": [
        "# Завдання 8\n",
        "import numpy as np\n",
        "\n",
        "# Створення матриці розміром 2x2, заповненої випадковими цілими числами від 1 до 10\n",
        "matrix = np.random.randint(1, 11, (2, 2))\n",
        "\n",
        "# Обчислення оберненої матриці\n",
        "inverse_matrix = np.linalg.inv(matrix)\n",
        "\n",
        "print(\"Матриця:\")\n",
        "print(matrix)\n",
        "print(\"\\nОбернена матриця:\")\n",
        "print(inverse_matrix)\n"
      ],
      "metadata": {
        "colab": {
          "base_uri": "https://localhost:8080/"
        },
        "id": "d2vN4_1SEOFs",
        "outputId": "bbbed875-b8d6-42b4-f35a-e1b3b39a6d2c"
      },
      "execution_count": 9,
      "outputs": [
        {
          "output_type": "stream",
          "name": "stdout",
          "text": [
            "Матриця:\n",
            "[[8 8]\n",
            " [5 2]]\n",
            "\n",
            "Обернена матриця:\n",
            "[[-0.08333333  0.33333333]\n",
            " [ 0.20833333 -0.33333333]]\n"
          ]
        }
      ]
    },
    {
      "cell_type": "code",
      "source": [
        "# Завдання 9\n",
        "import numpy as np\n",
        "\n",
        "# Створення матриці розміром 3x3, заповненої випадковими цілими числами від 0 до 1\n",
        "matrix = np.random.randint(0, 2, (3, 3))\n",
        "\n",
        "# Транспонування матриці\n",
        "transposed_matrix = matrix.T\n",
        "\n",
        "print(\"Оригінальна матриця:\")\n",
        "print(matrix)\n",
        "print(\"\\nТранспонована матриця:\")\n",
        "print(transposed_matrix)\n"
      ],
      "metadata": {
        "colab": {
          "base_uri": "https://localhost:8080/"
        },
        "id": "EGQbsb-vEOCj",
        "outputId": "d0b1414c-8ac3-44bc-d4b7-8c20c7808379"
      },
      "execution_count": 10,
      "outputs": [
        {
          "output_type": "stream",
          "name": "stdout",
          "text": [
            "Оригінальна матриця:\n",
            "[[0 0 0]\n",
            " [1 0 1]\n",
            " [0 1 1]]\n",
            "\n",
            "Транспонована матриця:\n",
            "[[0 1 0]\n",
            " [0 0 1]\n",
            " [0 1 1]]\n"
          ]
        }
      ]
    },
    {
      "cell_type": "code",
      "source": [
        "# Завдання 10\n",
        "import numpy as np\n",
        "\n",
        "# Створення матриці розміром 3x4 з випадковими дійсними числами від 0 до 1\n",
        "matrix = np.random.rand(3, 4)\n",
        "\n",
        "# Створення вектора розміром 4x1 з випадковими цілими числами в діапазоні від 1 до 10\n",
        "vector = np.random.randint(1, 11, size=(4, 1))\n",
        "\n",
        "# Обчислення добутку матриці на вектор\n",
        "result = np.dot(matrix, vector)\n",
        "\n",
        "print(\"Матриця:\")\n",
        "print(matrix)\n",
        "print(\"\\nВектор:\")\n",
        "print(vector)\n",
        "print(\"\\nДобуток матриці на вектор:\")\n",
        "print(result)\n"
      ],
      "metadata": {
        "colab": {
          "base_uri": "https://localhost:8080/"
        },
        "id": "1MyPpZVfEN_w",
        "outputId": "174cd066-7099-4c75-e6d3-b464570bb652"
      },
      "execution_count": 11,
      "outputs": [
        {
          "output_type": "stream",
          "name": "stdout",
          "text": [
            "Матриця:\n",
            "[[0.36841997 0.90332565 0.56738936 0.59950427]\n",
            " [0.36317239 0.75672928 0.8865751  0.75705451]\n",
            " [0.88290484 0.116495   0.05708419 0.868171  ]]\n",
            "\n",
            "Вектор:\n",
            "[[9]\n",
            " [2]\n",
            " [7]\n",
            " [4]]\n",
            "\n",
            "Добуток матриці на вектор:\n",
            "[[11.49217363]\n",
            " [14.01625377]\n",
            " [12.0514069 ]]\n"
          ]
        }
      ]
    },
    {
      "cell_type": "code",
      "source": [
        "# Завдання 11\n",
        "import numpy as np\n",
        "\n",
        "# Створення матриці розміром 2x3 з випадковими цілими числами від 1 до 10\n",
        "matrix = np.random.randint(1, 11, size=(2, 3))\n",
        "\n",
        "# Створення вектора розміром 3x1 з випадковими цілими числами в діапазоні від 1 до 10\n",
        "vector = np.random.randint(1, 11, size=(3, 1))\n",
        "\n",
        "# Обчислення добутку матриці на вектор\n",
        "result = np.dot(matrix, vector)\n",
        "\n",
        "print(\"Матриця:\")\n",
        "print(matrix)\n",
        "print(\"\\nВектор:\")\n",
        "print(vector)\n",
        "print(\"\\nДобуток матриці на вектор:\")\n",
        "print(result)\n"
      ],
      "metadata": {
        "colab": {
          "base_uri": "https://localhost:8080/"
        },
        "id": "NVVOk33UTRIk",
        "outputId": "d671acaa-8d2e-4e09-dcb7-8acc883592b1"
      },
      "execution_count": 12,
      "outputs": [
        {
          "output_type": "stream",
          "name": "stdout",
          "text": [
            "Матриця:\n",
            "[[4 5 7]\n",
            " [4 6 3]]\n",
            "\n",
            "Вектор:\n",
            "[[1]\n",
            " [3]\n",
            " [2]]\n",
            "\n",
            "Добуток матриці на вектор:\n",
            "[[33]\n",
            " [28]]\n"
          ]
        }
      ]
    },
    {
      "cell_type": "code",
      "source": [
        "# Завдання 12\n",
        "import numpy as np\n",
        "\n",
        "# Створення двох матриць розміром 6x6 з випадковими цілими числами від 1 до 10\n",
        "matrix1 = np.random.randint(1, 11, size=(6, 6))\n",
        "matrix2 = np.random.randint(1, 11, size=(6, 6))\n",
        "\n",
        "# Обчислення суми двох матриць\n",
        "matrix_sum = matrix1 + matrix2\n",
        "\n",
        "print(\"Перша матриця:\")\n",
        "print(matrix1)\n",
        "print(\"\\nДруга матриця:\")\n",
        "print(matrix2)\n",
        "print(\"\\nСума матриць:\")\n",
        "print(matrix_sum)\n"
      ],
      "metadata": {
        "colab": {
          "base_uri": "https://localhost:8080/"
        },
        "id": "_xXbBNazTRF8",
        "outputId": "df193215-b6c6-4a00-efad-d2e5d383d60e"
      },
      "execution_count": 13,
      "outputs": [
        {
          "output_type": "stream",
          "name": "stdout",
          "text": [
            "Перша матриця:\n",
            "[[ 6  4  3  3  2  4]\n",
            " [ 7  8  2  3  7  1]\n",
            " [ 6  1  7  4  7  3]\n",
            " [ 6  4  9  5  9  2]\n",
            " [ 2  9  2 10  9  2]\n",
            " [ 1  5  6  5  9  2]]\n",
            "\n",
            "Друга матриця:\n",
            "[[ 9  2  5  4  4  8]\n",
            " [ 8  6  4  8  7  6]\n",
            " [10  6  8  9 10  1]\n",
            " [ 5  6  6  7  5 10]\n",
            " [ 7  6  3  9  9  5]\n",
            " [ 3 10  5  6  4  4]]\n",
            "\n",
            "Сума матриць:\n",
            "[[15  6  8  7  6 12]\n",
            " [15 14  6 11 14  7]\n",
            " [16  7 15 13 17  4]\n",
            " [11 10 15 12 14 12]\n",
            " [ 9 15  5 19 18  7]\n",
            " [ 4 15 11 11 13  6]]\n"
          ]
        }
      ]
    },
    {
      "cell_type": "code",
      "source": [
        "# Завдання 13\n",
        "import numpy as np\n",
        "\n",
        "# Створення двох матриць розміром 6x6 з випадковими дійсними числами від 0 до 1\n",
        "matrix1 = np.random.rand(6, 6)\n",
        "matrix2 = np.random.rand(6, 6)\n",
        "\n",
        "# Обчислення різниці між елементами двох матриць\n",
        "matrix_difference = matrix1 - matrix2\n",
        "\n",
        "print(\"Перша матриця:\")\n",
        "print(matrix1)\n",
        "print(\"\\nДруга матриця:\")\n",
        "print(matrix2)\n",
        "print(\"\\nРізниця матриць:\")\n",
        "print(matrix_difference)\n"
      ],
      "metadata": {
        "colab": {
          "base_uri": "https://localhost:8080/"
        },
        "id": "nA4g0R3iTRDW",
        "outputId": "d9198974-de99-40f2-ce19-2aef268c6316"
      },
      "execution_count": 14,
      "outputs": [
        {
          "output_type": "stream",
          "name": "stdout",
          "text": [
            "Перша матриця:\n",
            "[[0.05911822 0.99819007 0.36195959 0.99613126 0.10917263 0.87903892]\n",
            " [0.74256853 0.82795737 0.06315557 0.8773127  0.04015507 0.21391026]\n",
            " [0.09661315 0.67869122 0.55542086 0.78247394 0.86501903 0.76975174]\n",
            " [0.31683847 0.1095511  0.74463603 0.57032983 0.04102827 0.30747206]\n",
            " [0.13385078 0.83854998 0.47438554 0.89446361 0.27039637 0.98225071]\n",
            " [0.63341733 0.21009309 0.01028876 0.42097691 0.58735078 0.5187704 ]]\n",
            "\n",
            "Друга матриця:\n",
            "[[0.73622646 0.92941322 0.82810907 0.82413402 0.98147497 0.40780273]\n",
            " [0.12583134 0.06672392 0.84169048 0.04688028 0.80149031 0.96148974]\n",
            " [0.28513117 0.92707257 0.89081687 0.03634112 0.98168534 0.08594508]\n",
            " [0.83637714 0.71646632 0.12342786 0.63628442 0.93098712 0.4859205 ]\n",
            " [0.92785645 0.69958275 0.75215273 0.73500144 0.42069447 0.38479619]\n",
            " [0.90746102 0.48046834 0.13631568 0.16320737 0.41666984 0.49070687]]\n",
            "\n",
            "Різниця матриць:\n",
            "[[-0.67710825  0.06877685 -0.46614947  0.17199723 -0.87230234  0.47123619]\n",
            " [ 0.61673719  0.76123345 -0.77853491  0.83043243 -0.76133524 -0.74757948]\n",
            " [-0.18851803 -0.24838135 -0.33539601  0.74613282 -0.11666631  0.68380667]\n",
            " [-0.51953866 -0.60691522  0.62120817 -0.06595458 -0.88995885 -0.17844844]\n",
            " [-0.79400567  0.13896723 -0.27776719  0.15946217 -0.1502981   0.59745452]\n",
            " [-0.27404369 -0.27037525 -0.12602692  0.25776954  0.17068094  0.02806353]]\n"
          ]
        }
      ]
    },
    {
      "cell_type": "code",
      "source": [
        "# Завдання 14\n",
        "import numpy as np\n",
        "\n",
        "# Створення матриці розміром 3x3 з випадковими дійсними числами в діапазоні від -5 до 5\n",
        "matrix = np.random.uniform(-5, 5, size=(3, 3))\n",
        "\n",
        "# Обчислення добутку всіх елементів матриці\n",
        "product = np.prod(matrix)\n",
        "\n",
        "print(\"Матриця:\")\n",
        "print(matrix)\n",
        "print(\"\\nДобуток елементів матриці:\")\n",
        "print(product)\n"
      ],
      "metadata": {
        "colab": {
          "base_uri": "https://localhost:8080/"
        },
        "id": "XVJIb7ohTRAj",
        "outputId": "6f16c59c-6592-4187-8789-41cb82ea2f9b"
      },
      "execution_count": 15,
      "outputs": [
        {
          "output_type": "stream",
          "name": "stdout",
          "text": [
            "Матриця:\n",
            "[[-0.88627277 -3.42079938 -1.66376265]\n",
            " [ 0.65796661  3.78615751  1.53693785]\n",
            " [-4.83835773 -3.05402906  1.71878362]]\n",
            "\n",
            "Добуток елементів матриці:\n",
            "-490.4983624288821\n"
          ]
        }
      ]
    },
    {
      "cell_type": "code",
      "source": [
        "# Завдання 15\n",
        "import numpy as np\n",
        "\n",
        "# Створення матриці розміром 7x7 з випадковими дійсними числами від 0 до 1\n",
        "matrix = np.random.rand(7, 7)\n",
        "\n",
        "# Знаходження індексу найбільшого елемента в кожному рядку\n",
        "max_indices = np.argmax(matrix, axis=1)\n",
        "\n",
        "# Формування вектора-стовпчика, що містить найбільші елементи з кожного рядка\n",
        "max_values = matrix[np.arange(matrix.shape[0]), max_indices]\n",
        "\n",
        "# Перетворення вектора значень у вектор-стовпчик\n",
        "max_values_column_vector = max_values.reshape(-1, 1)\n",
        "\n",
        "print(\"Матриця:\")\n",
        "print(matrix)\n",
        "print(\"\\nВектор-стовпчик, що містить найбільші елементи в кожному рядку:\")\n",
        "print(max_values_column_vector)\n"
      ],
      "metadata": {
        "colab": {
          "base_uri": "https://localhost:8080/"
        },
        "id": "nO_XMDt0TQ97",
        "outputId": "05f42ddf-b1f7-44b2-a82b-178ee5f90565"
      },
      "execution_count": 16,
      "outputs": [
        {
          "output_type": "stream",
          "name": "stdout",
          "text": [
            "Матриця:\n",
            "[[0.89997793 0.18225371 0.26341585 0.72349669 0.14782903 0.56691349\n",
            "  0.7415571 ]\n",
            " [0.36198095 0.83572891 0.60370707 0.03042769 0.33723405 0.33723398\n",
            "  0.60232814]\n",
            " [0.34808646 0.35984741 0.33180432 0.20503585 0.07989756 0.12643633\n",
            "  0.39888454]\n",
            " [0.67793453 0.7586551  0.05778686 0.20523425 0.11385428 0.70632879\n",
            "  0.9266758 ]\n",
            " [0.25276748 0.35109292 0.28048282 0.97580051 0.98776553 0.83725859\n",
            "  0.98445912]\n",
            " [0.04341971 0.78641346 0.81692489 0.48987747 0.97168979 0.09292079\n",
            "  0.40431362]\n",
            " [0.95051269 0.98594565 0.70039643 0.18604027 0.29264237 0.4256863\n",
            "  0.20079633]]\n",
            "\n",
            "Вектор-стовпчик, що містить найбільші елементи в кожному рядку:\n",
            "[[0.89997793]\n",
            " [0.83572891]\n",
            " [0.39888454]\n",
            " [0.9266758 ]\n",
            " [0.98776553]\n",
            " [0.97168979]\n",
            " [0.98594565]]\n"
          ]
        }
      ]
    }
  ]
}